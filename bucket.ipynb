{
 "cells": [
  {
   "cell_type": "code",
   "execution_count": 10,
   "metadata": {},
   "outputs": [
    {
     "ename": "ModuleNotFoundError",
     "evalue": "No module named 'monkeylearn'",
     "output_type": "error",
     "traceback": [
      "\u001b[0;31m---------------------------------------------------------------------------\u001b[0m",
      "\u001b[0;31mModuleNotFoundError\u001b[0m                       Traceback (most recent call last)",
      "\u001b[0;32m<ipython-input-10-ad8076581996>\u001b[0m in \u001b[0;36m<module>\u001b[0;34m\u001b[0m\n\u001b[0;32m----> 1\u001b[0;31m \u001b[0;32mfrom\u001b[0m \u001b[0mmonkeylearn\u001b[0m \u001b[0;32mimport\u001b[0m \u001b[0mMonkeyLearn\u001b[0m\u001b[0;34m\u001b[0m\u001b[0;34m\u001b[0m\u001b[0m\n\u001b[0m\u001b[1;32m      2\u001b[0m \u001b[0;34m\u001b[0m\u001b[0m\n\u001b[1;32m      3\u001b[0m \u001b[0mml\u001b[0m \u001b[0;34m=\u001b[0m \u001b[0mMonkeyLearn\u001b[0m\u001b[0;34m(\u001b[0m\u001b[0;34m'cd37057bd2b5d3d013fb3b7ae489c62b16823d9f'\u001b[0m\u001b[0;34m)\u001b[0m\u001b[0;34m\u001b[0m\u001b[0;34m\u001b[0m\u001b[0m\n\u001b[1;32m      4\u001b[0m \u001b[0;34m\u001b[0m\u001b[0m\n\u001b[1;32m      5\u001b[0m \u001b[0mmodel_id_keyword\u001b[0m \u001b[0;34m=\u001b[0m \u001b[0;34m'ex_zWTHVyoE'\u001b[0m\u001b[0;34m\u001b[0m\u001b[0;34m\u001b[0m\u001b[0m\n",
      "\u001b[0;31mModuleNotFoundError\u001b[0m: No module named 'monkeylearn'"
     ]
    }
   ],
   "source": [
    "from monkeylearn import MonkeyLearn\n",
    "\n",
    "ml = MonkeyLearn('cd37057bd2b5d3d013fb3b7ae489c62b16823d9f')\n",
    "\n",
    "model_id_keyword = 'ex_zWTHVyoE'\n",
    "model_id_opinion = 'ex_N4aFcea3'\n",
    "model_id_sentiment = 'cl_pi3C7JiL'\n",
    "\n",
    "def get_sentiment_keywords_monkeylearn_api(reviews):\n",
    "    '''\n",
    "    Input:\n",
    "    param test : list of reviews\n",
    "\n",
    "    Return:\n",
    "    keywords & sentiments : dataframe : 0,1,2 indices: reviews, keywords, sentiments \n",
    "    \n",
    "    '''\n",
    "    try:\n",
    "        ap ={}\n",
    "        result_s = ml.classifiers.classify(model_id_sentiment, reviews)\n",
    "        # result_o = ml.extractors.extract(model_id_opinion, reviews)\n",
    "        result_k = ml.extractors.extract(model_id_keyword, reviews)\n",
    "\n",
    "        rr,kk,ss=[],[],[]\n",
    "        for i,k in zip(result_s.body,result_k.body):\n",
    "            rr.append(i['text'])\n",
    "            kk.append(','.join([x['parsed_value'] for x in k['extractions']]))\n",
    "            ss.append(i['classifications'][0]['tag_name'].upper())\n",
    "\n",
    "        if rr !=[]:\n",
    "            keywords = kk[0].split(',')\n",
    "            final_result = [(x,ss[0]) for x in keywords]\n",
    "            ap['aspects']=final_result\n",
    "        else:\n",
    "            ap['aspects']=[]\n",
    "        return {'code':1,'result':ap,'message':'Success!'}\n",
    "    except:\n",
    "        return {'code':0,'message':'API not Working'}"
   ]
  },
  {
   "cell_type": "code",
   "execution_count": 5,
   "metadata": {},
   "outputs": [],
   "source": [
    "with open('/Users/user/Desktop/Dilip/data/test_reviews.txt','r') as f:\n",
    "    data = f.readlines()\n",
    "f.close()"
   ]
  },
  {
   "cell_type": "code",
   "execution_count": 9,
   "metadata": {},
   "outputs": [
    {
     "data": {
      "text/plain": [
       "97"
      ]
     },
     "execution_count": 9,
     "metadata": {},
     "output_type": "execute_result"
    }
   ],
   "source": [
    "len(reviews)"
   ]
  },
  {
   "cell_type": "code",
   "execution_count": 6,
   "metadata": {},
   "outputs": [],
   "source": [
    "reviews=[x.split('\\n')[0] for x in data]"
   ]
  },
  {
   "cell_type": "code",
   "execution_count": 12,
   "metadata": {},
   "outputs": [],
   "source": [
    "from monkeylearn import MonkeyLearn\n",
    "\n",
    "ml = MonkeyLearn('cd37057bd2b5d3d013fb3b7ae489c62b16823d9f')\n",
    "model_id_bucket = 'cl_xCd49vk3'\n",
    "result = ml.classifiers.classify(model_id_bucket,reviews)\n",
    "\n"
   ]
  },
  {
   "cell_type": "code",
   "execution_count": 20,
   "metadata": {},
   "outputs": [],
   "source": [
    "clusters = ['OTHER','APP','CUSTOMER SUPPORT','FIELD EXECUTIVE','VEHICLE','FUEL','NAVIGATION','STATION','HELMET','PRICING']"
   ]
  },
  {
   "cell_type": "code",
   "execution_count": 21,
   "metadata": {},
   "outputs": [],
   "source": [
    "m = {}\n",
    "for i in clusters:\n",
    "    lll=[]\n",
    "    for x in result.body:\n",
    "        if x['classifications'] !=[]:\n",
    "            if i == x['classifications'][0]['tag_name']:\n",
    "                lll.append(x['text'])\n",
    "    m[i]=lll\n",
    "nf=[]    \n",
    "for x in result.body:\n",
    "        if x['classifications'] ==[]:\n",
    "            nf.append(x['text'])\n",
    "m['nf']=nf"
   ]
  },
  {
   "cell_type": "code",
   "execution_count": 22,
   "metadata": {},
   "outputs": [
    {
     "data": {
      "text/plain": [
       "{'OTHER': ['star rating',\n",
       "  'people',\n",
       "  'caretaker',\n",
       "  'month',\n",
       "  'gen biggest start',\n",
       "  'better services',\n",
       "  'guy',\n",
       "  'rockstar',\n",
       "  'india',\n",
       "  'bounce',\n",
       "  'good response',\n",
       "  'lot',\n",
       "  'hospital emergency',\n",
       "  'vogo',\n",
       "  'thanks',\n",
       "  'word',\n",
       "  'district of karnataka',\n",
       "  'services',\n",
       "  'helpful tq',\n",
       "  'vogo',\n",
       "  'best experience',\n",
       "  'best things',\n",
       "  'bangalore',\n",
       "  'bounce',\n",
       "  'hassle',\n",
       "  'experience',\n",
       "  'lot',\n",
       "  'short distance ride',\n",
       "  'much attention',\n",
       "  'customer',\n",
       "  'safety',\n",
       "  'services',\n",
       "  'online payment methods',\n",
       "  'bad experience',\n",
       "  'ignition',\n",
       "  'day',\n",
       "  'overal good services',\n",
       "  'time',\n",
       "  'dark grey',\n",
       "  'keywords',\n",
       "  'green',\n",
       "  'overal good services',\n",
       "  'ride',\n",
       "  'daily basis',\n",
       "  'helmat issues',\n",
       "  'good ideas',\n",
       "  'suggestions',\n",
       "  'rental',\n",
       "  'regular rider',\n",
       "  'india',\n",
       "  'good services',\n",
       "  'vogo',\n",
       "  'short trip',\n",
       "  'colleagues',\n",
       "  'services',\n",
       "  'problem',\n",
       "  'day',\n",
       "  'office commute',\n",
       "  'guy',\n",
       "  'issues',\n",
       "  'booklet licence',\n",
       "  'week',\n",
       "  'reck',\n",
       "  'use of vogo',\n",
       "  'unplanned ride',\n",
       "  'phone',\n",
       "  'vogo',\n",
       "  'services',\n",
       "  'launch'],\n",
       " 'APP': ['superb app', 'apps', 'good app', 'app'],\n",
       " 'CUSTOMER SUPPORT': ['bangalore customer care'],\n",
       " 'FIELD EXECUTIVE': ['team vogo'],\n",
       " 'VEHICLE': ['great scooter',\n",
       "  'high quality scooter',\n",
       "  'small size scooter',\n",
       "  'many scooter',\n",
       "  'bike',\n",
       "  'rental bike app'],\n",
       " 'FUEL': [],\n",
       " 'NAVIGATION': [],\n",
       " 'STATION': ['city', 'area'],\n",
       " 'HELMET': ['helmet', 'helmet', 'helmet', 'helmet', 'helmet'],\n",
       " 'PRICING': ['coupons code', 'cool price', 'charge', 'offers'],\n",
       " 'nf': ['helemt',\n",
       "  'scoter',\n",
       "  'best rental services',\n",
       "  'best rental services',\n",
       "  'coimbatore']}"
      ]
     },
     "execution_count": 22,
     "metadata": {},
     "output_type": "execute_result"
    }
   ],
   "source": [
    "m"
   ]
  },
  {
   "cell_type": "code",
   "execution_count": null,
   "metadata": {},
   "outputs": [],
   "source": []
  }
 ],
 "metadata": {
  "kernelspec": {
   "display_name": "Python 3",
   "language": "python",
   "name": "python3"
  },
  "language_info": {
   "codemirror_mode": {
    "name": "ipython",
    "version": 3
   },
   "file_extension": ".py",
   "mimetype": "text/x-python",
   "name": "python",
   "nbconvert_exporter": "python",
   "pygments_lexer": "ipython3",
   "version": "3.7.3"
  }
 },
 "nbformat": 4,
 "nbformat_minor": 4
}
