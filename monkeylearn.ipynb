{
 "cells": [
  {
   "cell_type": "code",
   "execution_count": 1,
   "metadata": {},
   "outputs": [],
   "source": [
    "from monkeylearn import MonkeyLearn\n",
    "\n",
    "ml = MonkeyLearn('e7ad0f9e3ddac965447c2324ac406581033cf2be')\n",
    "\n",
    "model_id_keyword = 'ex_zWTHVyoE'\n",
    "model_id_opinion = 'ex_N4aFcea3'\n",
    "model_id_sentiment = 'cl_pi3C7JiL'\n",
    "\n",
    "def get_sentiment_keywords_monkeylearn_api(reviews):\n",
    "    '''\n",
    "    Input:\n",
    "    param test : list of reviews\n",
    "\n",
    "    Return:\n",
    "    keywords & sentiments : dataframe : 0,1,2 indices: reviews, keywords, sentiments \n",
    "    \n",
    "    '''\n",
    "    try:\n",
    "        ap ={}\n",
    "        result_s = ml.classifiers.classify(model_id_sentiment, reviews)\n",
    "        # result_o = ml.extractors.extract(model_id_opinion, reviews)\n",
    "        result_k = ml.extractors.extract(model_id_keyword, reviews)\n",
    "\n",
    "        rr,kk,ss=[],[],[]\n",
    "        for i,k in zip(result_s.body,result_k.body):\n",
    "            rr.append(i['text'])\n",
    "            kk.append(','.join([x['parsed_value'] for x in k['extractions']]))\n",
    "            ss.append(i['classifications'][0]['tag_name'].upper())\n",
    "\n",
    "        if rr !=[]:\n",
    "            keywords = kk[0].split(',')\n",
    "            final_result = [(x,ss[0]) for x in keywords]\n",
    "            ap['aspects']=final_result\n",
    "        else:\n",
    "            ap['aspects']=[]\n",
    "        return {'code':1,'result':ap,'message':'Success!'}\n",
    "    except:\n",
    "        return {'code':0,'message':'API not Working'}"
   ]
  },
  {
   "cell_type": "code",
   "execution_count": 6,
   "metadata": {},
   "outputs": [],
   "source": [
    "with open('/Users/user/Desktop/Dilip/test_reviews.txt','r') as f:\n",
    "    data = f.readlines()\n",
    "f.close()"
   ]
  },
  {
   "cell_type": "code",
   "execution_count": 7,
   "metadata": {},
   "outputs": [],
   "source": [
    "reviews=[x.split('\\n')[0] for x in data]"
   ]
  },
  {
   "cell_type": "code",
   "execution_count": 4,
   "metadata": {},
   "outputs": [
    {
     "ename": "ModelNotFound",
     "evalue": "Error MODEL_NOT_FOUND: Model not found, check if the model ID you used is correct.",
     "output_type": "error",
     "traceback": [
      "\u001b[0;31m---------------------------------------------------------------------------\u001b[0m",
      "\u001b[0;31mModelNotFound\u001b[0m                             Traceback (most recent call last)",
      "\u001b[0;32m<ipython-input-4-2330dd39e131>\u001b[0m in \u001b[0;36m<module>\u001b[0;34m\u001b[0m\n\u001b[1;32m      1\u001b[0m \u001b[0mmodel_id_keyword\u001b[0m \u001b[0;34m=\u001b[0m \u001b[0;34m'ex_zWTHVyoE'\u001b[0m\u001b[0;34m\u001b[0m\u001b[0;34m\u001b[0m\u001b[0m\n\u001b[0;32m----> 2\u001b[0;31m \u001b[0mresult_k_t\u001b[0m \u001b[0;34m=\u001b[0m \u001b[0mml\u001b[0m\u001b[0;34m.\u001b[0m\u001b[0mextractors\u001b[0m\u001b[0;34m.\u001b[0m\u001b[0mextract\u001b[0m\u001b[0;34m(\u001b[0m\u001b[0mmodel_id_keyword\u001b[0m\u001b[0;34m,\u001b[0m \u001b[0mreviews\u001b[0m\u001b[0;34m)\u001b[0m\u001b[0;34m\u001b[0m\u001b[0;34m\u001b[0m\u001b[0m\n\u001b[0m",
      "\u001b[0;32m~/venv/lib/python3.7/site-packages/monkeylearn/extraction.py\u001b[0m in \u001b[0;36mextract\u001b[0;34m(self, model_id, data, production_model, batch_size, retry_if_throttled, extra_args)\u001b[0m\n\u001b[1;32m     48\u001b[0m             raw_response = self.make_request('POST', url, data_dict,\n\u001b[1;32m     49\u001b[0m                                              retry_if_throttled=retry_if_throttled)\n\u001b[0;32m---> 50\u001b[0;31m             \u001b[0mresponse\u001b[0m\u001b[0;34m.\u001b[0m\u001b[0madd_raw_response\u001b[0m\u001b[0;34m(\u001b[0m\u001b[0mraw_response\u001b[0m\u001b[0;34m)\u001b[0m\u001b[0;34m\u001b[0m\u001b[0;34m\u001b[0m\u001b[0m\n\u001b[0m\u001b[1;32m     51\u001b[0m \u001b[0;34m\u001b[0m\u001b[0m\n\u001b[1;32m     52\u001b[0m         \u001b[0;32mreturn\u001b[0m \u001b[0mresponse\u001b[0m\u001b[0;34m\u001b[0m\u001b[0;34m\u001b[0m\u001b[0m\n",
      "\u001b[0;32m~/venv/lib/python3.7/site-packages/monkeylearn/response.py\u001b[0m in \u001b[0;36madd_raw_response\u001b[0;34m(self, raw_response)\u001b[0m\n\u001b[1;32m     74\u001b[0m         \u001b[0mself\u001b[0m\u001b[0;34m.\u001b[0m\u001b[0mraw_responses\u001b[0m\u001b[0;34m.\u001b[0m\u001b[0mappend\u001b[0m\u001b[0;34m(\u001b[0m\u001b[0mraw_response\u001b[0m\u001b[0;34m)\u001b[0m\u001b[0;34m\u001b[0m\u001b[0;34m\u001b[0m\u001b[0m\n\u001b[1;32m     75\u001b[0m         \u001b[0;32mif\u001b[0m \u001b[0mraw_response\u001b[0m\u001b[0;34m.\u001b[0m\u001b[0mstatus_code\u001b[0m \u001b[0;34m!=\u001b[0m \u001b[0mrequests\u001b[0m\u001b[0;34m.\u001b[0m\u001b[0mcodes\u001b[0m\u001b[0;34m.\u001b[0m\u001b[0mok\u001b[0m\u001b[0;34m:\u001b[0m\u001b[0;34m\u001b[0m\u001b[0;34m\u001b[0m\u001b[0m\n\u001b[0;32m---> 76\u001b[0;31m             \u001b[0mself\u001b[0m\u001b[0;34m.\u001b[0m\u001b[0mraise_for_status\u001b[0m\u001b[0;34m(\u001b[0m\u001b[0mraw_response\u001b[0m\u001b[0;34m)\u001b[0m\u001b[0;34m\u001b[0m\u001b[0;34m\u001b[0m\u001b[0m\n\u001b[0m\u001b[1;32m     77\u001b[0m \u001b[0;34m\u001b[0m\u001b[0m\n\u001b[1;32m     78\u001b[0m     \u001b[0;32mdef\u001b[0m \u001b[0mraise_for_status\u001b[0m\u001b[0;34m(\u001b[0m\u001b[0mself\u001b[0m\u001b[0;34m,\u001b[0m \u001b[0mraw_response\u001b[0m\u001b[0;34m)\u001b[0m\u001b[0;34m:\u001b[0m\u001b[0;34m\u001b[0m\u001b[0;34m\u001b[0m\u001b[0m\n",
      "\u001b[0;32m~/venv/lib/python3.7/site-packages/monkeylearn/response.py\u001b[0m in \u001b[0;36mraise_for_status\u001b[0;34m(self, raw_response)\u001b[0m\n\u001b[1;32m     95\u001b[0m             \u001b[0mexception_kwargs\u001b[0m\u001b[0;34m[\u001b[0m\u001b[0;34m'seconds_to_wait'\u001b[0m\u001b[0;34m]\u001b[0m \u001b[0;34m=\u001b[0m \u001b[0mseconds_to_wait\u001b[0m\u001b[0;34m\u001b[0m\u001b[0;34m\u001b[0m\u001b[0m\n\u001b[1;32m     96\u001b[0m \u001b[0;34m\u001b[0m\u001b[0m\n\u001b[0;32m---> 97\u001b[0;31m         \u001b[0;32mraise\u001b[0m \u001b[0mexception_class\u001b[0m\u001b[0;34m(\u001b[0m\u001b[0;34m**\u001b[0m\u001b[0mexception_kwargs\u001b[0m\u001b[0;34m)\u001b[0m\u001b[0;34m\u001b[0m\u001b[0;34m\u001b[0m\u001b[0m\n\u001b[0m",
      "\u001b[0;31mModelNotFound\u001b[0m: Error MODEL_NOT_FOUND: Model not found, check if the model ID you used is correct."
     ]
    }
   ],
   "source": [
    "model_id_keyword = 'ex_zWTHVyoE'\n",
    "result_k_t = ml.extractors.extract(model_id_keyword, reviews)"
   ]
  },
  {
   "cell_type": "code",
   "execution_count": 5,
   "metadata": {},
   "outputs": [
    {
     "ename": "NameError",
     "evalue": "name 'result_k_t' is not defined",
     "output_type": "error",
     "traceback": [
      "\u001b[0;31m---------------------------------------------------------------------------\u001b[0m",
      "\u001b[0;31mNameError\u001b[0m                                 Traceback (most recent call last)",
      "\u001b[0;32m<ipython-input-5-128f75f7852e>\u001b[0m in \u001b[0;36m<module>\u001b[0;34m\u001b[0m\n\u001b[0;32m----> 1\u001b[0;31m \u001b[0;34m[\u001b[0m\u001b[0my\u001b[0m\u001b[0;34m[\u001b[0m\u001b[0;34m'parsed_value'\u001b[0m\u001b[0;34m]\u001b[0m \u001b[0;32mfor\u001b[0m \u001b[0mx\u001b[0m \u001b[0;32min\u001b[0m \u001b[0mresult_k_t\u001b[0m\u001b[0;34m.\u001b[0m\u001b[0mbody\u001b[0m \u001b[0;32mfor\u001b[0m \u001b[0my\u001b[0m \u001b[0;32min\u001b[0m \u001b[0mx\u001b[0m\u001b[0;34m[\u001b[0m\u001b[0;34m'extractions'\u001b[0m\u001b[0;34m]\u001b[0m\u001b[0;34m]\u001b[0m\u001b[0;34m\u001b[0m\u001b[0;34m\u001b[0m\u001b[0m\n\u001b[0m",
      "\u001b[0;31mNameError\u001b[0m: name 'result_k_t' is not defined"
     ]
    }
   ],
   "source": [
    "[y['parsed_value'] for x in result_k_t.body for y in x['extractions']]"
   ]
  },
  {
   "cell_type": "code",
   "execution_count": null,
   "metadata": {},
   "outputs": [],
   "source": []
  }
 ],
 "metadata": {
  "kernelspec": {
   "display_name": "Python 3",
   "language": "python",
   "name": "python3"
  },
  "language_info": {
   "codemirror_mode": {
    "name": "ipython",
    "version": 3
   },
   "file_extension": ".py",
   "mimetype": "text/x-python",
   "name": "python",
   "nbconvert_exporter": "python",
   "pygments_lexer": "ipython3",
   "version": "3.7.3"
  }
 },
 "nbformat": 4,
 "nbformat_minor": 4
}
